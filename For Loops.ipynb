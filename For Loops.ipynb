{
 "cells": [
  {
   "cell_type": "code",
   "execution_count": 1,
   "id": "5194e8c9",
   "metadata": {
    "scrolled": true
   },
   "outputs": [
    {
     "name": "stdout",
     "output_type": "stream",
     "text": [
      "0\n",
      "1\n",
      "2\n",
      "3\n",
      "4\n",
      "5\n",
      "6\n",
      "7\n",
      "8\n",
      "9\n"
     ]
    }
   ],
   "source": [
    "# possibly the most important iterable is range, syntax: range([start,] stop [,step] )\n",
    "\n",
    "\n",
    "for i in range(0, 10):\n",
    "    print(i)"
   ]
  },
  {
   "cell_type": "code",
   "execution_count": 2,
   "id": "1c80fe9a",
   "metadata": {
    "scrolled": true
   },
   "outputs": [
    {
     "name": "stdout",
     "output_type": "stream",
     "text": [
      "0\n",
      "1\n",
      "2\n",
      "3\n",
      "4\n",
      "5\n",
      "6\n",
      "7\n",
      "8\n",
      "9\n"
     ]
    }
   ],
   "source": [
    "# assumes a start of 0\n",
    "\n",
    "for i in range(10):\n",
    "    print(i)"
   ]
  },
  {
   "cell_type": "code",
   "execution_count": 5,
   "id": "02f509f4",
   "metadata": {
    "scrolled": true
   },
   "outputs": [
    {
     "name": "stdout",
     "output_type": "stream",
     "text": [
      "0\n",
      "2\n",
      "4\n",
      "6\n",
      "8\n"
     ]
    }
   ],
   "source": [
    "# if a step is given then a start is required\n",
    "\n",
    "for i in range(0,10,2):\n",
    "    print(i)"
   ]
  },
  {
   "cell_type": "code",
   "execution_count": 12,
   "id": "c22b21af",
   "metadata": {},
   "outputs": [
    {
     "data": {
      "text/plain": [
       "1"
      ]
     },
     "execution_count": 12,
     "metadata": {},
     "output_type": "execute_result"
    }
   ],
   "source": [
    "## counting the number of ways we can split an amount of money\n",
    "## note that we need to use n+1 as the stop number to ensure we dont finish on 9,19,49,99, etc. \n",
    "\n",
    "\n",
    "combinations = []\n",
    "    \n",
    "for amount_100 in range(0, 100+1, 100):\n",
    "    for amount_50 in range(0, 50+1, 50):\n",
    "        for amount_20 in range(0, 20+1, 20):\n",
    "            for amount_10 in range(0, 10+1, 10):\n",
    "                for amount_5 in range(0, 5+1, 5):\n",
    "                    for amount_2 in range(0, 2+1, 2):\n",
    "                        for amount_1 in range(0, 1+1, 1):\n",
    "                            total_so_far = amount_100 + amount_50 + amount_20 + amount_10 + amount_5 + amount_2 + amount_1\n",
    "                            \n",
    "                            if total_so_far == 100:\n",
    "                                combinations.append([amount_100, amount_50, amount_20, amount_10, amount_5, amount_2, amount_1])\n",
    "                                \n",
    "len(combinations)"
   ]
  },
  {
   "cell_type": "code",
   "execution_count": null,
   "id": "0015ac89",
   "metadata": {},
   "outputs": [],
   "source": [
    "# we can turn it into "
   ]
  }
 ],
 "metadata": {
  "kernelspec": {
   "display_name": "Python 3 (ipykernel)",
   "language": "python",
   "name": "python3"
  },
  "language_info": {
   "codemirror_mode": {
    "name": "ipython",
    "version": 3
   },
   "file_extension": ".py",
   "mimetype": "text/x-python",
   "name": "python",
   "nbconvert_exporter": "python",
   "pygments_lexer": "ipython3",
   "version": "3.9.12"
  }
 },
 "nbformat": 4,
 "nbformat_minor": 5
}
